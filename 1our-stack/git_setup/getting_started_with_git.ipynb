{
 "cells": [
  {
   "cell_type": "markdown",
   "source": [
    "## Getting started with git and github"
   ],
   "metadata": {
    "collapsed": false
   },
   "id": "6e28a626d1408f90"
  },
  {
   "cell_type": "markdown",
   "source": [
    "We will work with git and GitHub during this course.   This is good to learn and will be the gift that keeps on giving if you struggle up the hill of learning and get comfortable with it.\n",
    "\n",
    "Git is primarily a version control system (VCS) and only secondarily a system for archiving data and code.  Always remember that.\n",
    "\n",
    "It works by keeping track of every change you make to every file you track.  It does this by maintaining a database with all the changes, and it can rebuild a file when you check it out of the database by applying all the changes one after the other.  It also has powerful sharing tools allowing multiple people to work on the project, all making edits themselves.\n",
    "\n",
    "This course is not about git, so go away and do some reading about it.  You will find it frustrating at first, but I guarantee that if you learn to use it properly you will love it and use it for all your projects.\n",
    "\n",
    "GitHub is an online repository, now owned by Microsoft, where you can store and share your git projects.  To get everyone on the same page, please complete these steps, working with your programming pair person.\n",
    "\n",
    "1. Create an account on GitHub if you haven't already\n",
    "2. If you are not familiar with GH create a sandbox repository in your account, clone it locally, change some files in there and get used to `git add`ing, `git commit`ing, `git push`ing and `git pulling`.\n",
    "3. Before we go any further, set up `ssh` so you are pushing and pulling using `ssh`.  These days, it is possible to maintain your `ssh` and other access tokens using password managers like 1password.  This is strongly recommended as being both highly secure but also convenient.  It is a bit more setup up front, but once you have it working it really helps your workflows.\n",
    "4. Learn about branching workflows.  In git we create branches where we make changes to our files.  This allows us to have multiple versions of files on the go at the same time and we can see the different versions by checking out the different branches from the git database.  When we are satisfied with a new version of a file we can merge two branches together, and all the changes in each branch will be merged together into a single branch.\n",
    "5. Play around with branching workflows by, in your sandbox, checking out branches using git, working on them, and merging them.\n",
    "6. Learn about pull requests (PRs).  This is a way to use branching workflows on shared repositories.   Play around with this by making a branch on your local computer but  not merging it locally, but making a PR on your linked GitHub account.  As repository owner on GH you can then merge your PR on GitHub.  After you do this, remember to synchronize this updated `main` branch on your remote back to your local by checking out your `main` branch locally and doing a `git pull`.\n",
    "7. Learn about forking workflows.  This links a central GitHub repository with your personal GitHub account, and through that, to your local computer.  The full forking workflow is\n",
    "    1. Fork the central repository (you only do this once)\n",
    "    1. clone your fork (you only do this once)\n",
    "    1. link the central repository to your clone using `git remote add` (once)\n",
    "    1. Every time you want to work on that project, do this:\n",
    "        1. sync your main with central `git checkout main` then `git pull upstream main`\n",
    "       2. create a new branch locally, do some work\n",
    "       1. Push your local branch to your fork\n",
    "       2. Create a PR from the branch on your fork to the `main` branch on the central repo\n",
    "       2. do more work, adding and committing locally and then pushing to your fork.  The new edits will automatically appear in the PR\n",
    "       2. The owner of central can see that PR and will communicate with you with suggestions.  \n",
    "       2. When they (not you) think everything is ready, they will merge the PR into the central repository.\n",
    "       2. At this point, you can sync your local main with upstream and delete your branch and the cycle is finished. "
   ],
   "metadata": {
    "collapsed": false
   },
   "id": "b2cf135f07c591a"
  },
  {
   "cell_type": "code",
   "outputs": [],
   "source": [],
   "metadata": {
    "collapsed": false
   },
   "id": "938727aec507c860"
  },
  {
   "cell_type": "markdown",
   "source": [
    "## GIt and jupyter notebooks"
   ],
   "metadata": {
    "collapsed": false
   },
   "id": "41d533870ce6362d"
  },
  {
   "cell_type": "markdown",
   "source": [
    "Git is great, and Jupyter notebooks are pretty cool too, but they don't always work so well together.  This is because the code to generate a jupyter notebook includes a bunch of things, including any outputs you have generated when you ran your code in the ipynb, that jupyter notebook needs to make that thing look good in a browser.  It means that all your actual python code is kind of hidden down in there and is hard to find.  It also means that there are many changes generated (like new plots) every time you run it and git desperately tries to keep track of all those changes, but you don't really care about them. Your repo becomes very big very quickly.  For this class we will just live with that, but when you work on your own real projects, keep this in mind.  Try and store as much code as possible as pure python (you can import python modules into jupyter so this works well together), and at the least, remove all outputs from your ipynbs before committing them to git."
   ],
   "metadata": {
    "collapsed": false
   },
   "id": "565c9d2d17d4fcbc"
  },
  {
   "cell_type": "markdown",
   "source": [
    "## Git and data"
   ],
   "metadata": {
    "collapsed": false
   },
   "id": "b436c3140352a3e7"
  },
  {
   "cell_type": "markdown",
   "source": [
    "To reiterate what was said above, Git is principally a version control system and a storage system only secondarily.  Don't use it to store your data (except small amounts of data to run tests and documentary examples).  Put your data somewhere else where people can download it but it isn't under git control.   For real research data, think about using Zenodo which is a data repository for open research data (run by CERN, the high energy physics experiment in Europe).  This will mint a doi (digitial object identifyer) and you can share this with people who can then access the data and download it.  It is not a truly FAIR database, but it is a good option currently for your real, public, research projects."
   ],
   "metadata": {
    "collapsed": false
   },
   "id": "f6b8002f1ba5fb4a"
  },
  {
   "cell_type": "markdown",
   "source": [
    "## Assignment"
   ],
   "metadata": {
    "collapsed": false
   },
   "id": "c1db83f193da6a"
  },
  {
   "cell_type": "markdown",
   "source": [
    "1. Create a branch called `git_assignment` in your clone of the class repo\n",
    "2. Add a text file (extension `.txt`) in the `1git` directory in the `assignments` folder named with your `firstname-lastname.txt` (all lower case, no spaces, ascii characters only - sorry).  In it list some songs you would like to add to the class playlist.\n",
    "3. Get this file merged by the instructor (me) to the main class repository using the Forking+branching workflow.\n",
    "4. If you were able to complete the Irises in Chapter 1 of MG, make a separate PR on a separate branch and push your `ipynb` using the name pattern `firstname_irises.ipynb`"
   ],
   "metadata": {
    "collapsed": false
   },
   "id": "4931cfb8110f64c7"
  },
  {
   "cell_type": "code",
   "outputs": [],
   "source": [],
   "metadata": {
    "collapsed": false
   },
   "id": "36cb79917402c208"
  }
 ],
 "metadata": {
  "kernelspec": {
   "display_name": "Python 3",
   "language": "python",
   "name": "python3"
  },
  "language_info": {
   "codemirror_mode": {
    "name": "ipython",
    "version": 2
   },
   "file_extension": ".py",
   "mimetype": "text/x-python",
   "name": "python",
   "nbconvert_exporter": "python",
   "pygments_lexer": "ipython2",
   "version": "2.7.6"
  }
 },
 "nbformat": 4,
 "nbformat_minor": 5
}
