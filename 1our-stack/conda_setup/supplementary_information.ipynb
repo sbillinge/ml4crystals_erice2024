{
 "cells": [
  {
   "cell_type": "code",
   "execution_count": null,
   "id": "initial_id",
   "metadata": {
    "collapsed": true
   },
   "outputs": [],
   "source": []
  },
  {
   "cell_type": "markdown",
   "source": [
    "#### Install tensorflow\n",
    "\n",
    "keras official websites give instructions on installing TensorFlow using pip. So we will do that. \n",
    "If pip is not installed on your device, follow the link below:\n",
    "https://pip.pypa.io/en/stable/installation/ \n",
    "\n",
    "Once that is done, basically run the following commands: \n",
    "- `python -m ensurepip --upgrade (MacOs)`\n",
    "- `py -m ensurepip --upgrade (Windows)`\n",
    "\n",
    "Also, upgrade pip just in case:\n",
    "- `pip install --upgrade pip (MacOs and Windows)`\n",
    "\n",
    "Then follow the tensorflow2 install guide here:\n",
    "https://www.tensorflow.org/install/pip\n",
    "\n",
    "\n",
    "When you go through the guide, these are considerations I want you to keep in mind:\n",
    "- As some installations will require a restart, DO NOT forget to reactviate your 'tf' environment with `\"activate tf (Anaconda)\"` each time you reopen your terminal. Not doing so will result in packages being unintentionally installed in and outside of the environment, which would ultimately lead to errors. We don't want that.\n",
    "\n",
    "Once you select the appropriate one according to your device, run\n",
    "- `pip install tensorflow (MacOs)`\n",
    "- `pip install \"tensorflow<2.11\" (Windows)`"
   ],
   "metadata": {
    "collapsed": false
   },
   "id": "dcc6e945325a3ea5"
  }
 ],
 "metadata": {
  "kernelspec": {
   "display_name": "Python 3",
   "language": "python",
   "name": "python3"
  },
  "language_info": {
   "codemirror_mode": {
    "name": "ipython",
    "version": 2
   },
   "file_extension": ".py",
   "mimetype": "text/x-python",
   "name": "python",
   "nbconvert_exporter": "python",
   "pygments_lexer": "ipython2",
   "version": "2.7.6"
  }
 },
 "nbformat": 4,
 "nbformat_minor": 5
}
