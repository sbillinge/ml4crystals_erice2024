{
 "cells": [
  {
   "cell_type": "markdown",
   "metadata": {
    "collapsed": false
   },
   "source": [
    "# Set up git and terminals on your computer\n",
    "\n",
    "To begin with we will work terminals that have the program `git` installed.  If you have MacOS or Linux you are already in good shape, just open a terminal and it should work.\n",
    "If you are working on windows, we recommend installing and using [Git For Windows](https://gitforwindows.org/) which gives you a unix-style `bash` terminal with git already installed.\n",
    "\n",
    "If you are not familiar with using a terminal, spend a bit of time reading about using unix terminals to get comfortable.\n",
    "\n",
    "# Getting the course materials\n",
    "\n",
    "You will find the course materials on GitHub at the link given in the course materials.  \n",
    "\n",
    "We will first download the materials from there. In this course we will spend some time to get used to using git and GitHub, something that you may find very useful in all your coding work (your GitHub history can also help you get a job so try and maintain a somewhat professional image there.  Treat it like LinkedIn rather than Tiktok...).\n",
    "For now, follow these instructions.\n",
    "1. Open a terminal \n",
    "2. Navigate to where you keep you want to work, e.g., type `mkdir ml4ms-course` to make an empty directory for your coursework, then `cd ml4ms-course` to move there.\n",
    "   - Recommendations for working with terminals:\n",
    "      - Never use any folder names with spaces in them (or non ascii characters for that matter)\n",
    "      - Never let your operating system (i.e., Windows Explorer or Finder on Mac) be in charge of where to save files.\n",
    "      - In a terminal it is really easy to go to you your \"home\" directory by typing `cd ~`.  This is usually the default directory you find yourself in when you open a new terminal.\n",
    "      - Therefore...build all your working directories off your home directory, making them very easy to find from the terminal\n",
    "1. Go to the course GitHub repository page in your browser\n",
    "2. Make a fork of the repo in your own GitHub account: click the `Fork` button and follow the instructions.\n",
    "3. Make a local 'clone' of your fork on your computer:\n",
    "   1. Find your fork of the course GitHub page in your browser\n",
    "   1. Click on the green \"Code\" button.  If you are familiar with git and GitHub then clone the repo.  If not, we will cover this in class, but for now download the zip file and unpack it.\n",
    "4. Open the README.md file (this file) and follow the instructions\n"
   ]
  },
  {
   "cell_type": "markdown",
   "metadata": {},
   "source": [
    "# Virtual environments and Conda"
   ]
  },
  {
   "cell_type": "markdown",
   "metadata": {
    "collapsed": false
   },
   "source": [
    "__Note:__ the beginning part of this notebook is a repeat of the README.md which is included for completeness.  If you went through the README, skip ahead to __Continued from Readme.md...__ and continue from there"
   ]
  },
  {
   "cell_type": "markdown",
   "metadata": {},
   "source": [
    "In python programming, we often use many python packages in conjunction to write codes. However, it can be hard to manage the different python packages since they all have different versions and dependencies. Furthermore, different pieces of codes could require different versions of the same package. As you can guess, package management becomes messy very easily. \n",
    "\n",
    "To get around this the concepts of virtual environments was invented.  The idea is that your \"environment\" is your computer operating system.  It knows about what is installed on your OS and it doesn't know anything else.  You can update your environment to know about more things by installing new apps and programs.  So let's extend this concept to a \"virtual environment\" that is a kind of sub-environment on your OS that only knows about what is in that environment.  The steps are then:\n",
    "1. create a virtual environment and give it a name\n",
    "2. install things in it\n",
    "3. when you want to use it, activate the environment so your current session/process is living in that environment\n",
    "4. use it\n",
    "5. when you are done, deactivate it\n",
    "\n",
    "This is very powerful because I can create an env to run a particular program, and another env to run a different program that has incompatible needs, and I can run them both on my OS because they live in separate environments.\n",
    "\n",
    "__recommendation__: starting now, do all your python work using virtual environments.  Never don't use them.\n",
    "\n",
    "We need some software to manage our virtual environments.  At the time of writing we like to use miniconda with mamba.\n",
    "\n",
    "Miniconda is a software that makes installing and managing python packages much simpler. The user can create multiple \"conda environments\". Each conda environment keeps a library of packages and makes sure that each package's version is compatible with every other package in the environment. You can pick which environment to use when running different coding projects which require different combinations of the packages and their versions. \n",
    "\n",
    "For uniformity and easier debugging, we will require everyone to use miniconda for the edexes in the course. \n",
    "\n",
    "Miniconda is a package manager produced by the company Continuum, which also has a number of other \"products\".  It is easy to mix up \"conda\", \"Anaconda\", \"miniconda\" and \"conda-forge\". Here are the differences. The Anaconda distribution comes from Continuum pre-loaded with many commonly used packages while the miniconda distribution is just the management system without any pre-loaded packages. `conda` is the software underlying Anaconda and Miniconda. \"conda-forge\" is a community supported \"channel\" in conda where people share their software packages.  We like this platform because it is good at handling interdependencies of packages.  It also provides you with pre-compiled packages that should work uniformly across different platforms.  At the time of writing it is strongly preferred that you use it.  The package dependency task is complicated and conda can get slow resolving all the dependencies when there are many of them.  There is a new faster version of the `conda` management software called `mamba` that works very nicely in the same conda ecosystem, so we strongly recommend this also.  Mamba is designed to work with conda-forge.  Below we give the steps to install the \"stack\" in the way we would like you to do this for this class.  \n",
    "\n",
    "We believe that this is a good way to set up your computer and if you learn these things now, it will be a gift that keeps on giving as you move forward.\n",
    "\n",
    "\n"
   ]
  },
  {
   "cell_type": "markdown",
   "metadata": {},
   "source": [
    "### Install and set up miniconda and mamba"
   ]
  },
  {
   "cell_type": "markdown",
   "metadata": {},
   "source": [
    "Installing miniconda is pretty straightforward. Go to the links below and select the graphical installer based on your operating system:\n",
    "\n",
    "[miniconda](https://docs.conda.io/en/main/miniconda.html)\n",
    "\n",
    "To begin with we will work with conda in a terminal.  \n",
    "\n",
    "- Open a terminal on you computer.\n",
    "   - If you are working on windows, we recommend installing and using [Git For Windows](https://gitforwindows.org/) which gives you a unix-style `bash` terminal with git already installed.\n",
    "- If you are not familiar with using a terminal, spend a bit of time reading about using unix terminals to get comfortable.\n",
    "- See what envs you have on your computer type: `conda info --envs`.  If you just installed miniconda you will only see a `base` env.\n",
    "- Next we want to ask conda to always look first in the `conda-forge` channel for packages by default: `conda config --add channels new_channel`\n",
    "- We will install mamba in our base environment: `conda install mamba`. (select y to approve the installation)\n",
    "- Next we want to update our `base` and make it compatible with `mamba`.  Type: `mamba update`.  This updates all the packages in your base to the latest `conda-forge` versions of those packages.\n",
    "- We will also want to use Jupyter from many of our environments, so let's also install that in the base environment: `conda install jupyter`\n",
    "\n",
    "Later you will create and then activate environments.  The environments are separate from each other (that is the point) _except_ the base environment.  \n",
    "\n",
    "All the other environments inherit what is in the `base` environment so work hard to keep your `base` clean.  _only install conda and mamba in your base __and nothing else__._    If you accidentally install other things in base, don't worry too much.  You can remove them if you need to, or if your base gets very dirty, it is quite quick to reinstall a clean miniconda (using the steps laid out above) and rebuild your envs.  It is good practice to do this from time to time anyway.  It can actually save quite a bit of frustrating debug time when things get dirty.\n",
    "\n",
    "With this setup done, you should be able to open a new terminal window and simply type `jupyter notebook` or `jupyter lab` in the terminal to open a jupyter session in your browser.  _It is recommended to navigate to your working folder-tree (i.e., using `cd`) in the terminal before typing `jupyter notebook`._ to make files more easily findable.\n"
   ]
  },
  {
   "cell_type": "markdown",
   "metadata": {
    "collapsed": false
   },
   "source": [
    "## Continued from Readme.md\n",
    "\n",
    "Everything above is a repeat of what was in the `README.md` file. We will continue the setup from inside this jupyter notebook to give you more practice using the notebooks."
   ]
  },
  {
   "cell_type": "markdown",
   "metadata": {},
   "source": [
    "### Package management using conda environments"
   ]
  },
  {
   "attachments": {},
   "cell_type": "markdown",
   "metadata": {},
   "source": [
    "Now, by way of example, we will create a conda environment for running tensorflow/keras codes. Since different operating systems can at times react differently to the same command, we will cater for that so that everyone can easily follow every step."
   ]
  },
  {
   "attachments": {},
   "cell_type": "markdown",
   "metadata": {},
   "source": [
    "First, we will create a new conda environment. As a general rule, we would like to build environments using the latest versions of python and of our packages.  At the time of writing, python 3.12 is the latest.  When a new Python version comes out it takes time for all the package managers to test and release their packages for the new version of python, so you may have to downgrade to a lower version of python to get going what you need.  With this in mind, it can be helpful to build smaller, more targeted environments rather than one big one that contains all the programs that you use.\n",
    "\n",
    "- Create your environment.\n",
    "  - open the terminal of your choice (Git-bash etc.)\n",
    "  - type the following command: `mamba create -n ml4ms-skl python=3.12`.  the `-n` is used to name the environment. We chose the name `ml4ms` (for this course) and `-skl` for `scikit-learn`. We will use this env for running `scikit-learn`\n",
    "- activate your env and run a program in it.\n",
    "  - First activate the env: `conda activate ml4ms-skl` \n",
    "  - You can check what is in it: `mamba list`\n",
    "  - It has python in it so you can run that.  For example: `python --version` will return the version of python you are running.\n",
    "\n",
    "At this point in time, no packages are installed in `ml4ms-skl`. We will work on this later, but first, let's make sure we are using this conda environment to run the code in the jupyter notebook."
   ]
  },
  {
   "cell_type": "markdown",
   "metadata": {},
   "source": [
    "There is a funny relationship, a bit like the mind-body problem, between our conda environments and our jupyter.  We need to have jupyter installed in our environment for jupyter to run in the first place, but once it is running we would like to have the packages installed in the environment available inside Jupyter.  \n",
    "\n",
    "The Python environment that is running in Jupyter is called the \"kernel\" for some reason.  You can see the python kernel at the top-right of the web-page running your ipynb. \n",
    "![where is my kernel](./figures/where_is_my_kernel.png)\n",
    "which if you click on it gives you a dropdown that allows you to select a kernel (or python environment)\n",
    "![kernel dropdown](./figures/kernel_dropdown.png)\n",
    "By default it is using some kind of vanilla python 3 environment.\n",
    "Click the dropdown and see if you can see your conda environment (you probably won't)\n",
    "\n",
    "We need to run a program called `ipykernel` that comes as part of jupyter to make our new environment visible in Jupyter:\n",
    "- `python -m ipykernel install --user --name ml4ms-skl --display-name \"Python (ml4ms-skl)\"`\n",
    "After you run this, you will have to refresh your web-page for it to appear, but then clicking on the kernel and then on the drop-down menu, you should see your conda environment there in Jupyter.\n",
    "\n",
    "You will have to rerun `ipykernel` for each new environment that you create to make it available in the dropdown menu.\n",
    "\n",
    "There is a slightly different workflow if you are running your notebooks in an IDE such as PyCharm.  Check out your IDE documentation, but for PyCharm open file -> settings, then search for \"python interpreter\" in the search box, then \"add interpreter\" -> \"Add local interpreter\", then select \"Conda environments\".  PyCharm will load all the conda environments it can find on your system and you select `ml4ms-skl` from that list."
   ]
  },
  {
   "cell_type": "markdown",
   "metadata": {
    "collapsed": false
   },
   "source": [
    "## Install scikit-learn"
   ]
  },
  {
   "cell_type": "markdown",
   "metadata": {
    "collapsed": false
   },
   "source": [
    "- in a terminal, and with your `ml4ms-skl` activated, type: `mamba install scikit-learn`\n",
    "\n",
    "To test your installation, try and run the code-cell below (click on the cell and either click the play button, or hit \"shift^enter\""
   ]
  },
  {
   "cell_type": "code",
   "execution_count": null,
   "metadata": {
    "is_executing": true
   },
   "outputs": [],
   "source": [
    "import sklearn\n",
    "\n",
    "! python --version\n",
    "print(f\"scikit-learn: {sklearn.__version__}\")"
   ]
  },
  {
   "cell_type": "markdown",
   "metadata": {
    "collapsed": false
   },
   "source": [
    "And to test that the plotting is working, try and run the code cell below"
   ]
  },
  {
   "cell_type": "code",
   "execution_count": null,
   "metadata": {
    "ExecuteTime": {
     "end_time": "2024-01-21T23:06:52.012931200Z",
     "start_time": "2024-01-21T23:06:46.720889200Z"
    }
   },
   "outputs": [],
   "source": [
    "import matplotlib.pyplot as plt\n",
    "import numpy as np\n",
    "\n",
    "x = np.linspace(0,2*np.pi,100)\n",
    "y = np.sin(x)\n",
    "plt.plot(x,y)"
   ]
  },
  {
   "cell_type": "markdown",
   "metadata": {
    "collapsed": false
   },
   "source": [
    "You probably got an error message that python couldn't find matplotlib.  Whenever you get that message it means there is a package that needs to be installed, in this case, `matplotlib`.  \n",
    "- As usual, in the terminal, with your `ml4ms-skl` env activated, type: `mamba install matplotlib`\n",
    "- Then try running the code-cell above again (click in the cell and hit  `shift^enter`.  The plot should run without error, but if you get an error try restarting the kernel and then rerunning the cell again."
   ]
  },
  {
   "cell_type": "markdown",
   "metadata": {
    "collapsed": false
   },
   "source": [
    "You should now be able to follow the Irises example in the book by Muller and Guido (MG)\n",
    "1. create a new ipython notebook: `File - New -> Notebook`\n",
    "2. Save it with a new name: `File - Save as`\n",
    "3. Select your `ml4ms-skl` env as the kernel\n",
    "4. Start creating cells and filling them in, following the example in the textbook."
   ]
  },
  {
   "attachments": {},
   "cell_type": "markdown",
   "metadata": {},
   "source": [
    "## Remember, whenever you want to work on your project:\n",
    "1. open your computer\n",
    "2. open a terminal\n",
    "2. change directories (using `cd`) to navigate to where you are working\n",
    "3. activate your env (e.g., `conda activate ml4ms-skl`)\n",
    "4. type `jupyter notebook &` in the terminal\n",
    "5. go to your browser and navigate to and open the `.ipynb` file you want to work on\n"
   ]
  }
 ],
 "metadata": {
  "kernelspec": {
   "display_name": "Python (ml4ms-skl)",
   "language": "python",
   "name": "ml4ms-skl"
  },
  "language_info": {
   "codemirror_mode": {
    "name": "ipython",
    "version": 3
   },
   "file_extension": ".py",
   "mimetype": "text/x-python",
   "name": "python",
   "nbconvert_exporter": "python",
   "pygments_lexer": "ipython3",
   "version": "3.12.1"
  }
 },
 "nbformat": 4,
 "nbformat_minor": 4
}
